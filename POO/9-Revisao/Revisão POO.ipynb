{
 "cells": [
  {
   "cell_type": "markdown",
   "source": [
    "## 1. Crie uma classe para representar uma pessoa, com os atributos privados de **nome**, **data de nascimento** e **altura**. Crie os métodos públicos necessários para sets e gets e também um método para imprimir todos dados de uma pessoa. Crie um método para calcular a **idade** da pessoa.\n",
    "\n"
   ],
   "metadata": {
    "collapsed": false
   }
  },
  {
   "cell_type": "code",
   "execution_count": 41,
   "outputs": [
    {
     "name": "stdout",
     "output_type": "stream",
     "text": [
      "Nome: Diego, Nascimento: 1988-06-12, Altura: 1.87, Idade: 34\n"
     ]
    }
   ],
   "source": [
    "import datetime\n",
    "import math\n",
    "\n",
    "class Pessoa:\n",
    "    def __init__(self, nome, nascimento, altura):\n",
    "        self.nome = nome\n",
    "        self.nascimento = nascimento\n",
    "        self.altura = altura\n",
    "\n",
    "    @property\n",
    "    def nome(self):\n",
    "        return self.__nome\n",
    "\n",
    "    @nome.setter\n",
    "    def nome(self, nome):\n",
    "        self.__nome = nome\n",
    "\n",
    "    @property\n",
    "    def nascimento(self):\n",
    "        return self.__nascimento\n",
    "\n",
    "    @nascimento.setter\n",
    "    def nascimento(self, nascimento):\n",
    "        assert isinstance(nascimento, datetime.date), \"nascimento deve ser do tipo datetime.date\"\n",
    "        assert nascimento < datetime.date.today(), \"nascimento deve ser menor que a data atual\"\n",
    "        assert nascimento > datetime.date(1900, 1, 1), \"nascimento deve ser maior que 01/01/1900\"\n",
    "        self.__nascimento = nascimento\n",
    "\n",
    "    @property\n",
    "    def altura(self):\n",
    "        return self.__altura\n",
    "\n",
    "    @altura.setter\n",
    "    def altura(self, altura):\n",
    "        assert isinstance(altura, float), \"altura deve ser do tipo float\"\n",
    "        assert altura > 0, \"altura deve ser maior que 0\"\n",
    "        self.__altura = altura\n",
    "\n",
    "    def idade(self):\n",
    "        hoje = datetime.date.today()\n",
    "        return math.floor((hoje - self.nascimento).days / 365.25)\n",
    "\n",
    "    def __str__(self):\n",
    "        return f\"Nome: {self.nome}, Nascimento: {self.nascimento}, Altura: {self.altura}, Idade: {self.idade()}\"\n",
    "\n",
    "p = Pessoa(\"Diego\", datetime.date(1988, 6, 12), 1.87)\n",
    "print(p)"
   ],
   "metadata": {
    "collapsed": false,
    "ExecuteTime": {
     "start_time": "2023-04-13T00:23:25.752397Z",
     "end_time": "2023-04-13T00:23:25.771266Z"
    }
   }
  },
  {
   "cell_type": "markdown",
   "source": [
    "## 2. Crie uma classe Agenda que pode armazenar 10 pessoas e que seja capaz de realizar as seguintes operações:\n",
    "\n",
    "* armazenaPessoa(nome: str, idade: int, altura: float) // guarda o objeto pessoa na lista\n",
    "* removePessoa(nome: str) // remove a pessoa da lista\n",
    "* buscaPessoa(nome: str) // informa em que posição da agenda está a pessoa\n",
    "* imprimeAgenda() // imprime os dados de todas as pessoas da agenda\n",
    "* imprimePessoa(index: str) // imprime os dados da pessoa que está na posição“i” da agenda."
   ],
   "metadata": {
    "collapsed": false
   }
  },
  {
   "cell_type": "code",
   "execution_count": 46,
   "outputs": [
    {
     "name": "stdout",
     "output_type": "stream",
     "text": [
      "True\n",
      "False\n",
      "Nome: Diego, Idade: 123, Altura: 1.88\n",
      "Nome: Teste, Idade: 321, Altura: 1.78\n",
      "Posição inválida\n"
     ]
    }
   ],
   "source": [
    "class Pessoa:\n",
    "    def __init__(self, nome, idade, altura):\n",
    "        self.nome = nome\n",
    "        self.idade = idade\n",
    "        self.altura = altura\n",
    "\n",
    "    @property\n",
    "    def nome(self):\n",
    "        return self.__nome\n",
    "\n",
    "    @nome.setter\n",
    "    def nome(self, nome):\n",
    "        self.__nome = nome\n",
    "\n",
    "    @property\n",
    "    def idade(self):\n",
    "        return self.__idade\n",
    "\n",
    "    @idade.setter\n",
    "    def idade(self, idade):\n",
    "        self.__idade = idade\n",
    "\n",
    "    @property\n",
    "    def altura(self):\n",
    "        return self.__altura\n",
    "\n",
    "    @altura.setter\n",
    "    def altura(self, altura):\n",
    "        self.__altura = altura\n",
    "\n",
    "    def __str__(self):\n",
    "        return f\"Nome: {self.nome}, Idade: {self.idade}, Altura: {self.altura}\"\n",
    "\n",
    "class Agenda:\n",
    "  LIMITE_PESSOAS = 10\n",
    "\n",
    "  def __init__(self):\n",
    "    self.pessoas = []\n",
    "\n",
    "  def armazena_pessoa(self, nome, idade, altura):\n",
    "    assert len(self.pessoas) <= self.LIMITE_PESSOAS, \"Agenda cheia\"\n",
    "    p = Pessoa(nome, idade, altura)\n",
    "    self.pessoas.append(p)\n",
    "\n",
    "  def remove_pessoa(self, nome):\n",
    "    for pessoa in self.pessoas:\n",
    "      if pessoa.nome == nome:\n",
    "        self.pessoas.remove(pessoa)\n",
    "        break\n",
    "\n",
    "  def busca_pessoa(self, nome):\n",
    "    for pessoa in self.pessoas:\n",
    "      if pessoa.nome == nome:\n",
    "        return True\n",
    "    return False\n",
    "\n",
    "  def imprime_agenda(self):\n",
    "    for pessoa in self.pessoas:\n",
    "      print(pessoa)\n",
    "\n",
    "  def imprime_pessoa(self, i):\n",
    "    # assert len(self.pessoas) < i is not None, \"Posição inválida\"\n",
    "    try:\n",
    "        print(self.pessoas[i])\n",
    "    except IndexError:\n",
    "        print(\"Posição inválida\")\n",
    "\n",
    "a = Agenda()\n",
    "a.armazena_pessoa(\"Diego\", 123, 1.88)\n",
    "a.armazena_pessoa(\"Teste\", 321, 1.78)\n",
    "a.armazena_pessoa(\"Teste2\", 321, 1.68)\n",
    "print(a.busca_pessoa(\"Diego\"))\n",
    "print(a.busca_pessoa(\"Diogo\"))\n",
    "a.remove_pessoa(\"Teste2\")\n",
    "a.imprime_agenda()\n",
    "a.imprime_pessoa(5)\n"
   ],
   "metadata": {
    "collapsed": false,
    "ExecuteTime": {
     "start_time": "2023-04-13T07:45:53.957306Z",
     "end_time": "2023-04-13T07:45:53.960833Z"
    }
   }
  },
  {
   "cell_type": "markdown",
   "source": [
    "## 3. Crie uma classe Televisao e uma classe ControleRemoto que pode controlar o volume e trocar os canais da televisão. O controle de volume permite:\n",
    "\n",
    "* aumentar ou diminuir a potência do volume de som em uma unidade de cada vez;\n",
    "* aumentar e diminuir o número do canal em uma unidade\n",
    "* trocar para um canal indicado;\n",
    "* consultar o valor do volume de som e o canal selecionado."
   ],
   "metadata": {
    "collapsed": false
   }
  },
  {
   "cell_type": "code",
   "execution_count": 49,
   "outputs": [
    {
     "name": "stdout",
     "output_type": "stream",
     "text": [
      "Canal = 7\n",
      "Volume = 0\n",
      "Canal = 5\n",
      "Volume = 5\n"
     ]
    }
   ],
   "source": [
    "class Televisao:\n",
    "    def __init__(self, canal, volume=0):\n",
    "        self.canal = canal\n",
    "        self.volume = volume\n",
    "\n",
    "    @property\n",
    "    def canal(self):\n",
    "        return self.__canal\n",
    "\n",
    "    @canal.setter\n",
    "    def canal(self, canal):\n",
    "        assert isinstance(canal, int), \"canal deve ser do tipo int\"\n",
    "        assert canal > 0, \"canal deve ser maior que 0\"\n",
    "        self.__canal = canal\n",
    "\n",
    "    @property\n",
    "    def volume(self):\n",
    "        return self.__volume\n",
    "\n",
    "    @volume.setter\n",
    "    def volume(self, volume):\n",
    "        assert isinstance(volume, int), \"volume deve ser do tipo int\"\n",
    "        assert volume >= 0, \"volume deve ser maior ou igual a 0\"\n",
    "        self.__volume = volume\n",
    "\n",
    "class ControleRemoto:\n",
    "    def __init__(self, televisao):\n",
    "        self.televisao = televisao\n",
    "\n",
    "    @property\n",
    "    def televisao(self):\n",
    "        return self.__televisao\n",
    "\n",
    "    @televisao.setter\n",
    "    def televisao(self, televisao):\n",
    "        assert isinstance(televisao, Televisao), \"televisao deve ser do tipo Televisao\"\n",
    "        self.__televisao = televisao\n",
    "\n",
    "    def aumentar_volume(self):\n",
    "        self.televisao.volume += 1\n",
    "\n",
    "    def diminuir_volume(self):\n",
    "        self.televisao.volume -= 1\n",
    "\n",
    "    def mudar_canal(self, numero):\n",
    "        self.televisao.canal = numero\n",
    "\n",
    "t = Televisao(7, 0)\n",
    "print(f\"Canal = {t.canal}\")\n",
    "print(f\"Volume = {t.volume}\")\n",
    "\n",
    "c = ControleRemoto(t)\n",
    "c.aumentar_volume()\n",
    "c.aumentar_volume()\n",
    "c.aumentar_volume()\n",
    "c.aumentar_volume()\n",
    "c.aumentar_volume()\n",
    "c.mudar_canal(5)\n",
    "print(f\"Canal = {t.canal}\")\n",
    "print(f\"Volume = {t.volume}\")"
   ],
   "metadata": {
    "collapsed": false,
    "ExecuteTime": {
     "start_time": "2023-04-13T07:55:09.037509Z",
     "end_time": "2023-04-13T07:55:09.049241Z"
    }
   }
  },
  {
   "cell_type": "markdown",
   "source": [
    "## 4. Escreva uma classe cujos objetos representam alunos matriculados em uma disciplina. Cada objeto dessa classe deve guardar os seguintes dados do aluno: matrícula, nome, 2 notas de prova e 1 nota de trabalho. Escreva os seguintes métodos para esta classe:\n",
    "* media: media calcula a média final do aluno (cada prova tem peso 2,5 e o trabalho tem peso 2)\n",
    "* calcula quanto o aluno precisa para a prova final (retorna zero se ele não for para a final)"
   ],
   "metadata": {
    "collapsed": false
   }
  },
  {
   "cell_type": "code",
   "execution_count": 53,
   "outputs": [
    {
     "name": "stdout",
     "output_type": "stream",
     "text": [
      "Media = 5.785714285714286\n",
      "Nota pra final = 4.214285714285714\n"
     ]
    }
   ],
   "source": [
    "class Aluno:\n",
    "    def __init__(self, nome, matricula, provas, trabalho):\n",
    "        self.nome = nome\n",
    "        self.matricula = matricula\n",
    "        self.provas = provas\n",
    "        self.trabalho = trabalho\n",
    "\n",
    "    @property\n",
    "    def provas(self):\n",
    "        return self.__provas\n",
    "\n",
    "    @provas.setter\n",
    "    def provas(self, provas):\n",
    "        assert isinstance(provas, list), \"Provas deve ser do tipo lista\"\n",
    "        assert len(provas) == 2, \"devem ser fornecidas duas notas de provas\"\n",
    "        self.__provas = provas\n",
    "\n",
    "    @property\n",
    "    def matricula(self):\n",
    "        return self.__matricula\n",
    "\n",
    "    @matricula.setter\n",
    "    def matricula(self, matricula):\n",
    "        assert isinstance(matricula, str), \"matricula deve ser do tipo string\"\n",
    "        assert 0 < len(matricula) <= 8, \"matricula deve ter entre 1 e 8 caracteres\"\n",
    "        self.__matricula = matricula\n",
    "\n",
    "    @property\n",
    "    def trabalho(self):\n",
    "      return self.__trabalho\n",
    "\n",
    "    @trabalho.setter\n",
    "    def trabalho(self, trabalho):\n",
    "        assert type(trabalho) == int or type(trabalho) == float, \"nota do trabalho deve ser um tipo numérico\"\n",
    "        self.__trabalho = trabalho\n",
    "\n",
    "    def calcula_media(self):\n",
    "        return ( (self.provas[0] + self.provas[1]) * 2.5 + ( self.trabalho * 2.0) ) / 7.0\n",
    "\n",
    "    def nota_pra_final(self):\n",
    "        return 10 - self.calcula_media()\n",
    "\n",
    "\n",
    "a = Aluno(\"José\", \"123\", [7.5, 5.5], 4.0)\n",
    "print(f\"Media = {a.calcula_media()}\")\n",
    "print(f\"Nota pra final = {a.nota_pra_final()}\")\n"
   ],
   "metadata": {
    "collapsed": false,
    "ExecuteTime": {
     "start_time": "2023-04-13T08:01:29.749492Z",
     "end_time": "2023-04-13T08:01:29.755319Z"
    }
   }
  },
  {
   "cell_type": "markdown",
   "source": [
    "## 6. Escreva uma classe Data cuja instância (objeto) represente uma data. Esta classe deverá dispor dos seguintes métodos:\n",
    "* construtor: define a data que determinado objeto (através de parâmetro), este método verifica se a data está correta, caso não esteja a data é configurada como 01/01/0001\n",
    "* compara: recebe como parâmetro um outro objeto da Classe data, compare com a data corrente e retorne:\n",
    "  * 0 se as datas forem iguais;\n",
    "  * 1 se a data corrente for maior que a do parâmetro;\n",
    "  * -1 se a data do parâmetro for maior que a corrente.\n",
    "* getDia: retorna o dia da data\n",
    "* getMes: retorna o mês da data\n",
    "* getMesExtenso: retorna o mês da data corrente por extenso\n",
    "* getAno: retorna o ano da data\n",
    "* isBissexto: retorna verdadeiro se o ano da data corrente for bissexto e falso caso contrário\n",
    "* clone:  o objeto clona a si próprio, para isto, ele cria um novo objeto da classe Data com os mesmos valores de atributos e retorna sua referência pelo método"
   ],
   "metadata": {
    "collapsed": false
   }
  },
  {
   "cell_type": "code",
   "execution_count": 54,
   "outputs": [
    {
     "name": "stdout",
     "output_type": "stream",
     "text": [
      "12\n",
      "6\n",
      "1988\n",
      "Junho\n",
      "True\n",
      "12/6/1988\n",
      "13/7/2022\n"
     ]
    }
   ],
   "source": [
    "from calendar import isleap\n",
    "\n",
    "class Data:\n",
    "    def __init__(self, dia, mes, ano):\n",
    "        self.dia = dia\n",
    "        self.mes = mes\n",
    "        self.ano = ano\n",
    "\n",
    "    @property\n",
    "    def dia(self):\n",
    "        return self.__dia\n",
    "\n",
    "    @dia.setter\n",
    "    def dia(self, dia):\n",
    "        assert 1 <= dia <= 31, \"Dia deve ser um valor entre 1 e 31\"\n",
    "        self.__dia = dia\n",
    "\n",
    "    @property\n",
    "    def mes(self):\n",
    "        return self.__mes\n",
    "\n",
    "    @property\n",
    "    def mes_extenso(self):\n",
    "        mes_extenso = {\n",
    "            1: \"Janeiro\",\n",
    "            2: \"Fevereiro\",\n",
    "            3: \"Março\",\n",
    "            4: \"Abril\",\n",
    "            5: \"Maio\",\n",
    "            6: \"Junho\",\n",
    "            7: \"Julho\",\n",
    "            8: \"Agosto\",\n",
    "            9: \"Setembro\",\n",
    "            10: \"Outubro\",\n",
    "            11: \"Novembro\",\n",
    "            12: \"Dezembro\"\n",
    "        }\n",
    "        return mes_extenso[self.mes]\n",
    "\n",
    "    @mes.setter\n",
    "    def mes(self, mes):\n",
    "        assert type(mes) == int, \"Mês deve ser um número inteiro\"\n",
    "        assert 1 <= mes <= 12, \"Mês deve ser um valor entre 1 e 12\"\n",
    "        self.__mes = mes\n",
    "\n",
    "    @property\n",
    "    def ano(self):\n",
    "        return self.__ano\n",
    "\n",
    "    @ano.setter\n",
    "    def ano(self, ano):\n",
    "        assert type(ano) == int, \"Ano deve ser um número inteiro\"\n",
    "        assert 1900 < ano < 2100, \"Ano deve ser um número entre 1900 e 2100\"\n",
    "        self.__ano = ano\n",
    "\n",
    "    @property\n",
    "    def bissexto(self):\n",
    "        return isleap(self.ano)\n",
    "\n",
    "    def clone(self):\n",
    "        return Data(self.dia, self.mes, self.ano)\n",
    "\n",
    "    def __str__(self):\n",
    "        return f\"{self.dia}/{self.mes}/{self.ano}\"\n",
    "\n",
    "\n",
    "d = Data(12, 6, 1988)\n",
    "print(d.dia)\n",
    "print(d.mes)\n",
    "print(d.ano)\n",
    "print(d.mes_extenso)\n",
    "print(d.bissexto)\n",
    "\n",
    "c = d.clone()\n",
    "c.dia = 13\n",
    "c.mes = 7\n",
    "c.ano = 2022\n",
    "print(d)\n",
    "print(c)"
   ],
   "metadata": {
    "collapsed": false,
    "ExecuteTime": {
     "start_time": "2023-04-13T08:06:42.995216Z",
     "end_time": "2023-04-13T08:06:43.004037Z"
    }
   }
  },
  {
   "cell_type": "markdown",
   "source": [
    "## 5. Escreva uma classe em que cada objeto representa um vôo que acontece em determinada data e em determinado horário. Cada vôo possui no máximo 100 passageiros, e a classe permite controlar a ocupação das vagas. A classe deve ter os seguintes métodos:\n",
    "\n",
    "* construtor:  configura os dados do vôo (recebidos como parâmetro): número do vôo, data (para armazenar a data utilize um objeto da classe Data, criada na questão anterior);\n",
    "* proximoLivre: retorna o número da próxima cadeira livre\n",
    "* verifica: verifica se o número da cadeira recebido como parâmetro está ocupada\n",
    "* ocupa: ocupa determinada cadeira do vôo, cujo número é recebido como parâmetro, e retorna verdadeiro se a cadeira ainda não estiver ocupada (operação foi bem sucedida) e falso caso contrário\n",
    "* vagas: retorna o número de cadeiras vagas disponíveis (não ocupadas) no vôo\n",
    "* voo (getter): retorna o número do vôo\n",
    "* data (getter): retorna a data do vôo (na forma de objeto)\n",
    "* clone: o objeto clona a si próprio, para isto, ele cria um novo objeto da mesma classe e faz uma cópia dos valores de seus atributos"
   ],
   "metadata": {
    "collapsed": false
   }
  },
  {
   "cell_type": "code",
   "execution_count": 55,
   "outputs": [
    {
     "name": "stdout",
     "output_type": "stream",
     "text": [
      "Próximo lugar livre = 1\n",
      "Lugar 5 disponível = True\n",
      "Lugar 10 disponível = True\n",
      "Ocupar lugar 10\n",
      "Lugar 10 disponível = False\n",
      "ocupa 1, 2, 3\n",
      "Próximo lugar livre = 4\n",
      "Vagas = [4, 5, 6, 7, 8, 9, 11, 12, 13, 14, 15, 16, 17, 18, 19, 20, 21, 22, 23, 24, 25, 26, 27, 28, 29, 30, 31, 32, 33, 34, 35, 36, 37, 38, 39, 40, 41, 42, 43, 44, 45, 46, 47, 48, 49, 50, 51, 52, 53, 54, 55, 56, 57, 58, 59, 60, 61, 62, 63, 64, 65, 66, 67, 68, 69, 70, 71, 72, 73, 74, 75, 76, 77, 78, 79, 80, 81, 82, 83, 84, 85, 86, 87, 88, 89, 90, 91, 92, 93, 94, 95, 96, 97, 98, 99, 100]\n",
      "Número = 123, Data = 22/9/2022\n",
      "Número = 456, Data = 22/9/2022\n"
     ]
    }
   ],
   "source": [
    "class VooLotadoException(Exception):\n",
    "    def __init__(self, msg):\n",
    "        super().__init__(self, msg)\n",
    "\n",
    "class Voo:\n",
    "    MAX_PASSAGEIROS = 100\n",
    "    def __init__(self, numero: int, data: Data):\n",
    "        self.numero = numero\n",
    "        self.data = data\n",
    "        self.lugares = [None]*Voo.MAX_PASSAGEIROS\n",
    "\n",
    "    def proximo_livre(self):\n",
    "        voo_livre = self.vagas()\n",
    "        if not voo_livre:\n",
    "          raise VooLotadoException(\"Não há mais lugares no voo\")\n",
    "        return voo_livre[0]\n",
    "\n",
    "    def verifica(self, numero):\n",
    "        return self.lugares[numero - 1] is None\n",
    "\n",
    "    def ocupa(self, numero):\n",
    "        assert self.lugares[numero - 1] is None, f\"Assento da posição {numero} está ocupado\"\n",
    "        self.lugares[numero - 1] = True\n",
    "\n",
    "    def vagas(self):\n",
    "        return [i+1 for i,v in enumerate(self.lugares) if v is None]\n",
    "\n",
    "    def clone(self):\n",
    "        return Voo(self.numero, self.data)\n",
    "\n",
    "    def __str__(self):\n",
    "        return f\"Número = {self.numero}, Data = {self.data}\"\n",
    "\n",
    "try:\n",
    "  v = Voo(123, Data(22,9,2022))\n",
    "  print(f\"Próximo lugar livre = {v.proximo_livre()}\")\n",
    "  print(f\"Lugar 5 disponível = {v.verifica(5)}\")\n",
    "  print(f\"Lugar 10 disponível = {v.verifica(10)}\")\n",
    "  print(f\"Ocupar lugar 10\")\n",
    "  v.ocupa(10)\n",
    "  print(f\"Lugar 10 disponível = {v.verifica(10)}\")\n",
    "  print(\"ocupa 1, 2, 3\")\n",
    "  v.ocupa(1)\n",
    "  v.ocupa(2)\n",
    "  v.ocupa(3)\n",
    "  print(f\"Próximo lugar livre = {v.proximo_livre()}\")\n",
    "  print(f\"Vagas = {v.vagas()}\")\n",
    "except VooLotadoException as vl:\n",
    "  print(vl.args[1])\n",
    "except AssertionError as a:\n",
    "  print(a)\n",
    "\n",
    "\n",
    "v2 = v.clone()\n",
    "v2.numero = 456\n",
    "print(v)\n",
    "print(v2)"
   ],
   "metadata": {
    "collapsed": false,
    "ExecuteTime": {
     "start_time": "2023-04-13T08:16:20.181373Z",
     "end_time": "2023-04-13T08:16:20.204004Z"
    }
   }
  },
  {
   "cell_type": "markdown",
   "source": [
    "## Parte 2 - Herança"
   ],
   "metadata": {
    "collapsed": false
   }
  },
  {
   "cell_type": "markdown",
   "source": [
    "## 1. Escreva uma classe herdeira à voo criada na parte anterior, que permita definir quantas cadeiras existem no máximo no voo e se dividir o avião em ala de fumantes e não fumantes. Para isto esta classe deve acrescentar os atributos necessários e adicionar os seguintes métodos:\n",
    "* construtor: além dos parâmetros recebidos pelo construtor da superclasse, receberá também como parâmetros o número de vagas do voo e quantas cadeiras serão destinadas para fumantes\n",
    "* maxVagas: determina o número máximo de cadeiras no voo\n",
    "* cadeirasFumantes: determina quantas cadeiras estão destinadas aos fumantes (as demais serão automaticamente destinadas aos não fumantes); as cadeiras dos fumantes serão sempre as últimas do avião\n",
    "* tipo: recebe como parâmetro o número da cadeira e retorna ‘F’ se for uma cadeira para fumantes e ‘N’ se for para não fumantes\n",
    "\n",
    "Os métodos proximoLivre, verifica e ocupa da superclasse devem ser adaptados para tratar o número máximo de vagas informado, ao invés do número fixo de 100."
   ],
   "metadata": {
    "collapsed": false
   }
  },
  {
   "cell_type": "code",
   "execution_count": 24,
   "outputs": [
    {
     "name": "stdout",
     "output_type": "stream",
     "text": [
      "Total de vagas = 100\n",
      "Total de vagas para fumantes = 30\n",
      "TOtal de vagas para nao-fumantes = 70\n",
      "Próximo lugar livre = 1\n",
      "Próximo lugar para fumante livre = 71\n",
      "Lugar 5 disponível = True\n",
      "Lugar 10 disponível = True\n",
      "Ocupar lugar 10\n",
      "Lugar 10 disponível = False\n",
      "ocupa 1, 2, 3\n",
      "Próximo lugar livre = 4\n",
      "Ocupa 71 e 72\n",
      "Próximo lugar livre para fumante = 73\n",
      "Vagas = [4, 5, 6, 7, 8, 9, 11, 12, 13, 14, 15, 16, 17, 18, 19, 20, 21, 22, 23, 24, 25, 26, 27, 28, 29, 30, 31, 32, 33, 34, 35, 36, 37, 38, 39, 40, 41, 42, 43, 44, 45, 46, 47, 48, 49, 50, 51, 52, 53, 54, 55, 56, 57, 58, 59, 60, 61, 62, 63, 64, 65, 66, 67, 68, 69, 70, 73, 74, 75, 76, 77, 78, 79, 80, 81, 82, 83, 84, 85, 86, 87, 88, 89, 90, 91, 92, 93, 94, 95, 96, 97, 98, 99, 100]\n"
     ]
    }
   ],
   "source": [
    "from enum import Enum\n",
    "\n",
    "class TipoVaga(Enum):\n",
    "    FUMANTE = 'F'\n",
    "    NAO_FUMANTE = 'N'\n",
    "    OCUPADA = 'O'\n",
    "\n",
    "class VooFumantes(Voo):\n",
    "    def __init__(self, numero: int, data: Data, vagas_fumantes, max_vagas=Voo.MAX_PASSAGEIROS):\n",
    "        super().__init__(numero, data)\n",
    "        self.max_vagas = max_vagas\n",
    "        self.vagas_fumantes = vagas_fumantes\n",
    "        self.lugares = [TipoVaga.NAO_FUMANTE.value]*(max_vagas-vagas_fumantes) + [TipoVaga.FUMANTE.value]*vagas_fumantes\n",
    "\n",
    "    @property\n",
    "    def vagas_fumantes(self):\n",
    "        return self.__vagasFumantes\n",
    "\n",
    "    @vagas_fumantes.setter\n",
    "    def vagas_fumantes(self, vagas_fumantes):\n",
    "        assert vagas_fumantes < self.max_vagas, \"Vagas de fumantes devem ser menor do que o total de vagas\"\n",
    "        self.__vagasFumantes = vagas_fumantes\n",
    "\n",
    "    @property\n",
    "    def max_vagas(self):\n",
    "        return self.__max_vagas\n",
    "\n",
    "    @max_vagas.setter\n",
    "    def max_vagas(self, max_vagas):\n",
    "        self.__max_vagas = max_vagas\n",
    "\n",
    "    def vagas_por_tipo(self, tipo: TipoVaga):\n",
    "        assert type(tipo) == TipoVaga, \"Atributo tipo deve ser um valor do enum TipoVaga\"\n",
    "        return [i+1 for i,v in enumerate(self.lugares) if v == tipo.value]\n",
    "\n",
    "    def proximo_livre_por_tipo(self, tipo: TipoVaga):\n",
    "        voo_livre = self.vagas_por_tipo(tipo)\n",
    "        if not voo_livre:\n",
    "          raise VooLotadoException(\"Não há mais lugares no voo\")\n",
    "        return voo_livre[0]\n",
    "\n",
    "    def verifica(self, numero):\n",
    "        return self.lugares[numero - 1] is not TipoVaga.OCUPADA\n",
    "\n",
    "    def ocupa(self, numero):\n",
    "        assert self.lugares[numero - 1] != TipoVaga.OCUPADA, f\"Assento da posição {numero} está ocupado\"\n",
    "        self.lugares[numero - 1] = TipoVaga.OCUPADA\n",
    "\n",
    "    def vagas(self):\n",
    "        return [i+1 for i,v in enumerate(self.lugares) if v is not TipoVaga.OCUPADA]\n",
    "\n",
    "try:\n",
    "    vf = VooFumantes(133, Data(22, 9, 2022), 30, 100)\n",
    "    print(f\"Total de vagas = {len(vf.vagas())}\")\n",
    "    print(f\"Total de vagas para fumantes = {len(vf.vagas_por_tipo(TipoVaga.FUMANTE))}\")\n",
    "    print(f\"TOtal de vagas para nao-fumantes = {len(vf.vagas_por_tipo(TipoVaga.NAO_FUMANTE))}\")\n",
    "    print(f\"Próximo lugar livre = {vf.proximo_livre()}\")\n",
    "    print(f\"Próximo lugar para fumante livre = {vf.proximo_livre_por_tipo(TipoVaga.FUMANTE)}\")\n",
    "    print(f\"Lugar 5 disponível = {vf.verifica(5)}\")\n",
    "    print(f\"Lugar 10 disponível = {vf.verifica(10)}\")\n",
    "    print(f\"Ocupar lugar 10\")\n",
    "    vf.ocupa(10)\n",
    "    print(f\"Lugar 10 disponível = {vf.verifica(10)}\")\n",
    "    print(\"ocupa 1, 2, 3\")\n",
    "    vf.ocupa(1)\n",
    "    vf.ocupa(2)\n",
    "    vf.ocupa(3)\n",
    "    print(f\"Próximo lugar livre = {vf.proximo_livre()}\")\n",
    "    print(\"Ocupa 71 e 72\")\n",
    "    vf.ocupa(71)\n",
    "    vf.ocupa(72)\n",
    "    print(f\"Próximo lugar livre para fumante = {vf.proximo_livre_por_tipo(TipoVaga.FUMANTE)}\")\n",
    "    print(f\"Vagas = {vf.vagas()}\")\n",
    "except VooLotadoException as vl:\n",
    "    print(vl.args[1])\n",
    "except AssertionError as e:\n",
    "    print(e)\n"
   ],
   "metadata": {
    "collapsed": false,
    "ExecuteTime": {
     "start_time": "2023-04-13T00:11:31.267630Z",
     "end_time": "2023-04-13T00:11:31.270355Z"
    }
   }
  },
  {
   "cell_type": "markdown",
   "source": [
    "## Parte 3 - Classe Abstrata e Polimorfismo"
   ],
   "metadata": {
    "collapsed": false
   }
  },
  {
   "cell_type": "markdown",
   "source": [
    "### Dadas as seguintes classes:"
   ],
   "metadata": {
    "collapsed": false
   }
  },
  {
   "cell_type": "code",
   "execution_count": 62,
   "outputs": [],
   "source": [
    "from abc import ABC, abstractmethod\n",
    "from typing import List\n",
    "\n",
    "class Animal:\n",
    "  def __init__(self, nome, especie):\n",
    "    self.__nome = nome\n",
    "    self.__especie = especie\n",
    "\n",
    "  @property\n",
    "  def nome(self):\n",
    "    return self.__nome\n",
    "\n",
    "  @property\n",
    "  def especie(self):\n",
    "    return self.__especie\n",
    "\n",
    "  def __str__(self):\n",
    "    return f\"{self.nome} - {self.especie}\"\n",
    "\n",
    "class Ferramenta(ABC):\n",
    "\n",
    "  @abstractmethod\n",
    "  def filtraEspecie(self, completo: List[Animal], especieFiltrar: str):\n",
    "    '''\n",
    "    Recebe como parâmetro um vetor contendo animais, que podem\n",
    "    ser de várias espécies diferentes, e retorna um vetor que contém\n",
    "    apenas os animais cuja espécie é especificada no parâmetro\n",
    "    “especieFiltrar”. Se não houver nenhum animal da espécie\n",
    "    especificada, retorna um vetor com zero posições.\n",
    "    '''\n",
    "    pass\n",
    "\n",
    "  @abstractmethod\n",
    "  def classificaEspecies(self, completo: List[Animal]):\n",
    "    '''\n",
    "    Recebe como parâmetro um vetor contendo animais e retorna um\n",
    "    vetor de Strings contendo o nome de todas as espécies que foram\n",
    "    encontradas no vetor recebido como parâmetro. Cada nome de\n",
    "    espécie só aparece uma vez no vetor de saída.\n",
    "    '''\n",
    "    pass\n",
    "\n",
    "class FerramentaImpl(Ferramenta):\n",
    "  def filtraEspecie(self, completo, especieFiltrar):\n",
    "    return [c for c in completo if c.especie == especieFiltrar]\n",
    "\n",
    "  def classificaEspecies(self, completo: List[Animal]):\n",
    "    return set([c.especie for c in completo])\n",
    "\n",
    "class Resultado:\n",
    "  def __init__(self, especie, quantidade):\n",
    "    self.especie = especie\n",
    "    self.quantidade = quantidade\n",
    "\n",
    "  def __str__(self):\n",
    "    return f\"{self.especie} = {self.quantidade}\""
   ],
   "metadata": {
    "collapsed": false,
    "ExecuteTime": {
     "start_time": "2023-04-13T08:30:12.453619Z",
     "end_time": "2023-04-13T08:30:12.459911Z"
    }
   }
  },
  {
   "cell_type": "markdown",
   "source": [
    "Crie uma classe que implemente `Ferramenta` e complete o método `contabilizarAnimais`  abaixo, que recebe que possui  dois parâmetros:\n",
    "* Um vetor A de objetos que implementam a classe Animal, representando diversos animais\n",
    "* Um objeto que implementa a classe Ferramentas.\n",
    "\n",
    "O método deve contabilizar o número de animais disponíveis em cada uma das espécies ao retornar um vetor de objeto da classe Resultado"
   ],
   "metadata": {
    "collapsed": false
   }
  },
  {
   "cell_type": "code",
   "execution_count": 66,
   "outputs": [
    {
     "name": "stdout",
     "output_type": "stream",
     "text": [
      "Mamiferos = ['rex - mamifero', 'mimi - mamifero']\n",
      "Espécies = {'ave', 'mamifero', 'peixe', 'reptil'}\n",
      "['ave = 1', 'mamifero = 2', 'peixe = 1', 'reptil = 1']\n"
     ]
    }
   ],
   "source": [
    "class Cachorro(Animal):\n",
    "  def __init__(self, nome, especie):\n",
    "    super().__init__(nome, especie)\n",
    "\n",
    "class Gato(Animal):\n",
    "  def __init__(self, nome, especie):\n",
    "    super().__init__(nome, especie)\n",
    "\n",
    "class Galinha(Animal):\n",
    "  def __init__(self, nome, especie):\n",
    "    super().__init__(nome, especie)\n",
    "\n",
    "class Jacare(Animal):\n",
    "  def __init__(self, nome, especie):\n",
    "    super().__init__(nome, especie)\n",
    "\n",
    "class BabyShark(Animal):\n",
    "  def __init__(self, nome, especie):\n",
    "    super().__init__(nome, especie)\n",
    "\n",
    "def contabilizarAnimais(animais: List[Animal], ferramenta: Ferramenta):\n",
    "    for especie in ferramenta.classificaEspecies(animais):\n",
    "      resultado = Resultado(especie, len(ferramenta.filtraEspecie(animais, especie)))\n",
    "      yield(str(resultado))\n",
    "\n",
    "cachorro = Cachorro(\"rex\", \"mamifero\")\n",
    "gato = Gato(\"mimi\", \"mamifero\")\n",
    "galinha = Galinha(\"pintadinha\", \"ave\")\n",
    "jacare = Jacare(\"lacoste\", \"reptil\")\n",
    "babyShark = BabyShark(\"tubarao\", \"peixe\")\n",
    "\n",
    "ferramenta = FerramentaImpl()\n",
    "animais = [cachorro, gato, galinha, jacare, babyShark]\n",
    "mamiferos = ferramenta.filtraEspecie(animais, \"mamifero\")\n",
    "print(f\"Mamiferos = {list(map(lambda m: str(m), mamiferos))}\")\n",
    "especies = ferramenta.classificaEspecies(animais)\n",
    "print(f\"Espécies = {especies}\")\n",
    "\n",
    "resultado = list(contabilizarAnimais([cachorro, gato, galinha, jacare, babyShark], ferramenta))\n",
    "print(resultado)\n"
   ],
   "metadata": {
    "collapsed": false,
    "ExecuteTime": {
     "start_time": "2023-04-13T08:30:35.611802Z",
     "end_time": "2023-04-13T08:30:35.617671Z"
    }
   }
  },
  {
   "cell_type": "markdown",
   "source": [
    "## 2. Dada a classe ItemOrcamento que representa um item de um orçamento:"
   ],
   "metadata": {
    "collapsed": false
   }
  },
  {
   "cell_type": "code",
   "execution_count": 33,
   "outputs": [],
   "source": [
    "class ItemOrcamento:\n",
    "    def __init__(self, historico, valor):\n",
    "        self.__historico = historico\n",
    "        self.__valor = valor\n",
    "\n",
    "    @property\n",
    "    def historico(self):\n",
    "        return self.__historico\n",
    "\n",
    "    @property\n",
    "    def valor(self):\n",
    "        return self.__valor\n",
    "\n",
    "    def __str__(self):\n",
    "        return f\"{self.historico} - {self.valor}\""
   ],
   "metadata": {
    "collapsed": false,
    "ExecuteTime": {
     "start_time": "2023-04-13T00:15:19.866106Z",
     "end_time": "2023-04-13T00:15:19.871645Z"
    }
   }
  },
  {
   "cell_type": "markdown",
   "source": [
    "Escreva uma classe herdeira de ItemOrcamento denominada `ItemOrcamentoComplexo`\n",
    "que mantenha um vetor com subitens de orçamento que podem ser da classe `ItemOrcamento`\n",
    "ou da classe `ItemOrcamentoComplexo`.\n",
    "\n",
    "A classe `ItemOrcamentoComplexo` implementa os seguintes métodos:\n",
    "* construtor (além dos parâmetros da subclasse, recebe como parâmetro o vetor com os subitens de orçamento)\n",
    "* valor (sobrescreve o método de propriedade da superclasse, retornando a soma de valores de todos os subitens do orçamento\n",
    "* encontraItem (recebe como parâmetro o historico de um subitem (string) e retorna o objeto correspondente ao subitem que possui este histórico, se existir. Caso contrário, retorna null."
   ],
   "metadata": {
    "collapsed": false
   }
  },
  {
   "cell_type": "code",
   "execution_count": 34,
   "outputs": [
    {
     "name": "stdout",
     "output_type": "stream",
     "text": [
      "h3 - 15.0\n",
      "R$ 30.00\n"
     ]
    }
   ],
   "source": [
    "from typing import List\n",
    "\n",
    "class ItemOrcamentoComplexo(ItemOrcamento):\n",
    "    def __init__(self, historico, valor, subitens: List[ItemOrcamento]):\n",
    "        super().__init__(historico, valor)\n",
    "        self.__subitens = subitens\n",
    "\n",
    "    @property\n",
    "    def subitens(self):\n",
    "        return self.__subitens\n",
    "\n",
    "    @property\n",
    "    def valor(self):\n",
    "        return super().valor + sum([s.valor for s in self.subitens])\n",
    "\n",
    "    def encontraItem(self, historico):\n",
    "        return next(s for s in self.subitens if s.historico == historico)\n",
    "\n",
    "i = ItemOrcamentoComplexo(\"h1\", 5.00, [ItemOrcamento(\"h2\", 10.00), ItemOrcamento(\"h3\", 15.00)])\n",
    "print(i.encontraItem(\"h3\"))\n",
    "print(f\"R$ {i.valor:.2f}\")"
   ],
   "metadata": {
    "collapsed": false,
    "ExecuteTime": {
     "start_time": "2023-04-13T00:15:20.919038Z",
     "end_time": "2023-04-13T00:15:20.922810Z"
    }
   }
  },
  {
   "cell_type": "markdown",
   "source": [
    "## 3. Um jardim zoológico definiu a seguinte classe que estende Animal (Q1) e utiliza ItemOrcamento (Q2):"
   ],
   "metadata": {
    "collapsed": false
   }
  },
  {
   "cell_type": "code",
   "execution_count": 36,
   "outputs": [],
   "source": [
    "class AnimalOrcamento(Animal):\n",
    "    @abstractmethod\n",
    "    def orcamento_gastos_animal(item_orcamento_complexo):\n",
    "        pass"
   ],
   "metadata": {
    "collapsed": false,
    "ExecuteTime": {
     "start_time": "2023-04-13T00:16:06.135222Z",
     "end_time": "2023-04-13T00:16:06.141509Z"
    }
   }
  },
  {
   "cell_type": "markdown",
   "source": [
    "* O método `orcamentoGastosAnimal` retorna o orçamento para gastos de um animal no\n",
    "zoológico.\n",
    "\n",
    "* O zoológico deseja saber quais de seus animais têm a “vacina W” prevista no seu orçamento.\n",
    "\n",
    "Escreva um método que receba como parâmetro um vetor de objetos que implementam a\n",
    "interface `AnimalOrcamento` representando todos os animais do zoológico e seus respectivos orçamentos.\n",
    "\n",
    "O método deve retornar um outro vetor de objetos que implementam a interface\n",
    "`AnimalOrcamento` apenas com aqueles animais que possuem um subitem com histórico “vacina\n",
    "W” prevista no seu orçamento."
   ],
   "metadata": {
    "collapsed": false
   }
  },
  {
   "cell_type": "code",
   "execution_count": 39,
   "outputs": [
    {
     "name": "stdout",
     "output_type": "stream",
     "text": [
      "['pintado - mamífero']\n",
      "['pintado - mamífero', 'quaqua - ave']\n"
     ]
    }
   ],
   "source": [
    "class AnimalOrcamentoImpl(AnimalOrcamento):\n",
    "\n",
    "    def __init__(self, nome, especie):\n",
    "        super().__init__(nome, especie)\n",
    "\n",
    "    def orcamento_gastos_animal(self, item_orcamento_complexo):\n",
    "        self.orcamento = item_orcamento_complexo\n",
    "\n",
    "def animais_vacinados(animais_orcamento, vacina):\n",
    "  return [str(a) for a in animais_orcamento for s in a.orcamento.subitens if s.historico == vacina]\n",
    "\n",
    "cavalo = AnimalOrcamentoImpl(\"pintado\", \"mamífero\")\n",
    "cavalo.orcamento_gastos_animal(ItemOrcamentoComplexo(\"compra\", 5.00, [ItemOrcamento(\"vacina x\", 10.00), ItemOrcamento(\"vacina w\", 50.00)]))\n",
    "pato = AnimalOrcamentoImpl(\"quaqua\", \"ave\")\n",
    "pato.orcamento_gastos_animal(ItemOrcamentoComplexo(\"compra\", 5.00, [ItemOrcamento(\"vacina x\", 10.00)]))\n",
    "\n",
    "print(animais_vacinados([cavalo, pato], 'vacina w'))\n",
    "print(animais_vacinados([cavalo, pato], 'vacina x'))\n"
   ],
   "metadata": {
    "collapsed": false,
    "ExecuteTime": {
     "start_time": "2023-04-13T00:18:11.263424Z",
     "end_time": "2023-04-13T00:18:11.266753Z"
    }
   }
  }
 ],
 "metadata": {
  "kernelspec": {
   "display_name": "Python 3",
   "language": "python",
   "name": "python3"
  },
  "language_info": {
   "codemirror_mode": {
    "name": "ipython",
    "version": 2
   },
   "file_extension": ".py",
   "mimetype": "text/x-python",
   "name": "python",
   "nbconvert_exporter": "python",
   "pygments_lexer": "ipython2",
   "version": "2.7.6"
  }
 },
 "nbformat": 4,
 "nbformat_minor": 0
}
